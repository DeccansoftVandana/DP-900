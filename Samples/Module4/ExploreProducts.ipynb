{
  "cells": [
    {
      "cell_type": "code",
      "source": [
        "%%pyspark\r\n",
        "df = spark.read.load('abfss://synapse-files@dssdatalake.dfs.core.windows.net/synapse/Products.csv', format='csv'\r\n",
        "## If header exists uncomment line below\r\n",
        "##, header=True\r\n",
        ")\r\n",
        "display(df.limit(10))"
      ],
      "outputs": [
        {
          "output_type": "display_data",
          "data": {
            "application/vnd.livy.statement-meta+json": {
              "spark_pool": "spool1",
              "session_id": "1",
              "statement_id": 2,
              "state": "finished",
              "livy_statement_state": "available",
              "queued_time": "2022-07-20T10:19:20.2953126Z",
              "session_start_time": "2022-07-20T10:19:20.3834534Z",
              "execution_start_time": "2022-07-20T10:23:46.14521Z",
              "execution_finish_time": "2022-07-20T10:24:15.3736661Z",
              "spark_jobs": null
            },
            "text/plain": "StatementMeta(spool1, 1, 2, Finished, Available)"
          },
          "metadata": {}
        },
        {
          "output_type": "display_data",
          "data": {
            "application/vnd.synapse.widget-view+json": {
              "widget_id": "2eb1c79b-e2cf-4fdd-afb6-31351f1be089",
              "widget_type": "Synapse.DataFrame"
            },
            "text/plain": "SynapseWidget(Synapse.DataFrame, 2eb1c79b-e2cf-4fdd-afb6-31351f1be089)"
          },
          "metadata": {}
        }
      ],
      "execution_count": 1,
      "metadata": {
        "microsoft": {
          "language": "python"
        },
        "collapsed": false
      }
    },
    {
      "cell_type": "code",
      "source": [
        "%%pyspark\r\n",
        "df = spark.read.load('abfss://synapse-files@dssdatalake.dfs.core.windows.net/synapse/Products.csv', format='csv'\r\n",
        "## If header exists uncomment line below\r\n",
        ", header=True\r\n",
        ")\r\n",
        "display(df.limit(10))"
      ],
      "outputs": [
        {
          "output_type": "display_data",
          "data": {
            "application/vnd.livy.statement-meta+json": {
              "spark_pool": "spool1",
              "session_id": "1",
              "statement_id": 3,
              "state": "finished",
              "livy_statement_state": "available",
              "queued_time": "2022-07-20T10:25:32.0238092Z",
              "session_start_time": null,
              "execution_start_time": "2022-07-20T10:25:32.1613293Z",
              "execution_finish_time": "2022-07-20T10:25:47.0140322Z",
              "spark_jobs": null
            },
            "text/plain": "StatementMeta(spool1, 1, 3, Finished, Available)"
          },
          "metadata": {}
        },
        {
          "output_type": "display_data",
          "data": {
            "application/vnd.synapse.widget-view+json": {
              "widget_id": "47da63a6-a786-46f4-a43a-e987b78feb8f",
              "widget_type": "Synapse.DataFrame"
            },
            "text/plain": "SynapseWidget(Synapse.DataFrame, 47da63a6-a786-46f4-a43a-e987b78feb8f)"
          },
          "metadata": {}
        }
      ],
      "execution_count": 2,
      "metadata": {
        "jupyter": {
          "source_hidden": false,
          "outputs_hidden": false
        },
        "nteract": {
          "transient": {
            "deleting": false
          }
        },
        "microsoft": {
          "language": "python"
        },
        "collapsed": false
      }
    },
    {
      "cell_type": "code",
      "source": [
        "df_counts = df.groupBy(df.Category).count()\r\n",
        "display(df_counts)"
      ],
      "outputs": [
        {
          "output_type": "display_data",
          "data": {
            "application/vnd.livy.statement-meta+json": {
              "spark_pool": "spool1",
              "session_id": "1",
              "statement_id": 4,
              "state": "finished",
              "livy_statement_state": "available",
              "queued_time": "2022-07-20T10:26:09.3436026Z",
              "session_start_time": null,
              "execution_start_time": "2022-07-20T10:26:09.4673779Z",
              "execution_finish_time": "2022-07-20T10:26:12.2868063Z",
              "spark_jobs": null
            },
            "text/plain": "StatementMeta(spool1, 1, 4, Finished, Available)"
          },
          "metadata": {}
        },
        {
          "output_type": "display_data",
          "data": {
            "application/vnd.synapse.widget-view+json": {
              "widget_id": "811187a3-542f-42a2-8872-b3be5ba68dfe",
              "widget_type": "Synapse.DataFrame"
            },
            "text/plain": "SynapseWidget(Synapse.DataFrame, 811187a3-542f-42a2-8872-b3be5ba68dfe)"
          },
          "metadata": {}
        }
      ],
      "execution_count": 3,
      "metadata": {
        "jupyter": {
          "source_hidden": false,
          "outputs_hidden": false
        },
        "nteract": {
          "transient": {
            "deleting": false
          }
        },
        "collapsed": false
      }
    }
  ],
  "metadata": {
    "language_info": {
      "name": "python"
    },
    "kernelspec": {
      "name": "synapse_pyspark",
      "language": "Python",
      "display_name": "Synapse PySpark"
    },
    "kernel_info": {
      "name": "synapse_pyspark"
    },
    "save_output": true,
    "synapse_widget": {
      "version": "0.1",
      "state": {
        "2eb1c79b-e2cf-4fdd-afb6-31351f1be089": {
          "type": "Synapse.DataFrame",
          "sync_state": {
            "table": {
              "rows": [
                {
                  "0": "ProductID",
                  "1": "ProductName",
                  "2": "Category",
                  "3": "ListPrice"
                },
                {
                  "0": "771",
                  "1": "Mountain-100 Silver, 38",
                  "2": "Mountain Bikes",
                  "3": "3399.9900"
                },
                {
                  "0": "772",
                  "1": "Mountain-100 Silver, 42",
                  "2": "Mountain Bikes",
                  "3": "3399.9900"
                },
                {
                  "0": "773",
                  "1": "Mountain-100 Silver, 44",
                  "2": "Mountain Bikes",
                  "3": "3399.9900"
                },
                {
                  "0": "774",
                  "1": "Mountain-100 Silver, 48",
                  "2": "Mountain Bikes",
                  "3": "3399.9900"
                },
                {
                  "0": "775",
                  "1": "Mountain-100 Black, 38",
                  "2": "Mountain Bikes",
                  "3": "3374.9900"
                },
                {
                  "0": "776",
                  "1": "Mountain-100 Black, 42",
                  "2": "Mountain Bikes",
                  "3": "3374.9900"
                },
                {
                  "0": "777",
                  "1": "Mountain-100 Black, 44",
                  "2": "Mountain Bikes",
                  "3": "3374.9900"
                },
                {
                  "0": "778",
                  "1": "Mountain-100 Black, 48",
                  "2": "Mountain Bikes",
                  "3": "3374.9900"
                },
                {
                  "0": "779",
                  "1": "Mountain-200 Silver, 38",
                  "2": "Mountain Bikes",
                  "3": "2319.9900"
                }
              ],
              "schema": [
                {
                  "key": "0",
                  "name": "_c0",
                  "type": "string"
                },
                {
                  "key": "1",
                  "name": "_c1",
                  "type": "string"
                },
                {
                  "key": "2",
                  "name": "_c2",
                  "type": "string"
                },
                {
                  "key": "3",
                  "name": "_c3",
                  "type": "string"
                }
              ],
              "truncated": false
            },
            "isSummary": false,
            "language": "scala"
          },
          "persist_state": {
            "view": {
              "type": "details",
              "tableOptions": {},
              "chartOptions": {
                "chartType": "bar",
                "aggregationType": "count",
                "categoryFieldKeys": [
                  "0"
                ],
                "seriesFieldKeys": [
                  "0"
                ],
                "isStacked": false
              }
            }
          }
        },
        "47da63a6-a786-46f4-a43a-e987b78feb8f": {
          "type": "Synapse.DataFrame",
          "sync_state": {
            "table": {
              "rows": [
                {
                  "0": "771",
                  "1": "Mountain-100 Silver, 38",
                  "2": "Mountain Bikes",
                  "3": "3399.9900"
                },
                {
                  "0": "772",
                  "1": "Mountain-100 Silver, 42",
                  "2": "Mountain Bikes",
                  "3": "3399.9900"
                },
                {
                  "0": "773",
                  "1": "Mountain-100 Silver, 44",
                  "2": "Mountain Bikes",
                  "3": "3399.9900"
                },
                {
                  "0": "774",
                  "1": "Mountain-100 Silver, 48",
                  "2": "Mountain Bikes",
                  "3": "3399.9900"
                },
                {
                  "0": "775",
                  "1": "Mountain-100 Black, 38",
                  "2": "Mountain Bikes",
                  "3": "3374.9900"
                },
                {
                  "0": "776",
                  "1": "Mountain-100 Black, 42",
                  "2": "Mountain Bikes",
                  "3": "3374.9900"
                },
                {
                  "0": "777",
                  "1": "Mountain-100 Black, 44",
                  "2": "Mountain Bikes",
                  "3": "3374.9900"
                },
                {
                  "0": "778",
                  "1": "Mountain-100 Black, 48",
                  "2": "Mountain Bikes",
                  "3": "3374.9900"
                },
                {
                  "0": "779",
                  "1": "Mountain-200 Silver, 38",
                  "2": "Mountain Bikes",
                  "3": "2319.9900"
                },
                {
                  "0": "780",
                  "1": "Mountain-200 Silver, 42",
                  "2": "Mountain Bikes",
                  "3": "2319.9900"
                }
              ],
              "schema": [
                {
                  "key": "0",
                  "name": "ProductID",
                  "type": "string"
                },
                {
                  "key": "1",
                  "name": "ProductName",
                  "type": "string"
                },
                {
                  "key": "2",
                  "name": "Category",
                  "type": "string"
                },
                {
                  "key": "3",
                  "name": "ListPrice",
                  "type": "string"
                }
              ],
              "truncated": false
            },
            "isSummary": false,
            "language": "scala"
          },
          "persist_state": {
            "view": {
              "type": "details",
              "tableOptions": {},
              "chartOptions": {
                "chartType": "bar",
                "aggregationType": "count",
                "categoryFieldKeys": [
                  "0"
                ],
                "seriesFieldKeys": [
                  "0"
                ],
                "isStacked": false
              }
            }
          }
        },
        "811187a3-542f-42a2-8872-b3be5ba68dfe": {
          "type": "Synapse.DataFrame",
          "sync_state": {
            "table": {
              "rows": [
                {
                  "0": "Headsets",
                  "1": "3"
                },
                {
                  "0": "Wheels",
                  "1": "14"
                },
                {
                  "0": "Bottom Brackets",
                  "1": "3"
                },
                {
                  "0": "Touring Frames",
                  "1": "18"
                },
                {
                  "0": "Mountain Bikes",
                  "1": "32"
                },
                {
                  "0": "Pedals",
                  "1": "7"
                },
                {
                  "0": "Derailleurs",
                  "1": "2"
                },
                {
                  "0": "Chains",
                  "1": "1"
                },
                {
                  "0": "Pumps",
                  "1": "2"
                },
                {
                  "0": "Hydration Packs",
                  "1": "1"
                },
                {
                  "0": "Road Bikes",
                  "1": "43"
                },
                {
                  "0": "Bottles and Cages",
                  "1": "3"
                },
                {
                  "0": "Road Frames",
                  "1": "33"
                },
                {
                  "0": "Forks",
                  "1": "3"
                },
                {
                  "0": "Vests",
                  "1": "3"
                },
                {
                  "0": "Brakes",
                  "1": "2"
                },
                {
                  "0": "Helmets",
                  "1": "3"
                },
                {
                  "0": "Saddles",
                  "1": "9"
                },
                {
                  "0": "Tights",
                  "1": "3"
                },
                {
                  "0": "Jerseys",
                  "1": "8"
                },
                {
                  "0": "Gloves",
                  "1": "6"
                },
                {
                  "0": "Panniers",
                  "1": "1"
                },
                {
                  "0": "Touring Bikes",
                  "1": "22"
                },
                {
                  "0": "Bike Racks",
                  "1": "1"
                },
                {
                  "0": "Fenders",
                  "1": "1"
                },
                {
                  "0": "Caps",
                  "1": "1"
                },
                {
                  "0": "Lights",
                  "1": "3"
                },
                {
                  "0": "Cranksets",
                  "1": "3"
                },
                {
                  "0": "Shorts",
                  "1": "7"
                },
                {
                  "0": "Locks",
                  "1": "1"
                },
                {
                  "0": "Bike Stands",
                  "1": "1"
                },
                {
                  "0": "Bib-Shorts",
                  "1": "3"
                },
                {
                  "0": "Handlebars",
                  "1": "8"
                },
                {
                  "0": "Mountain Frames",
                  "1": "28"
                },
                {
                  "0": "Tires and Tubes",
                  "1": "11"
                },
                {
                  "0": "Cleaners",
                  "1": "1"
                },
                {
                  "0": "Socks",
                  "1": "4"
                }
              ],
              "schema": [
                {
                  "key": "0",
                  "name": "Category",
                  "type": "string"
                },
                {
                  "key": "1",
                  "name": "count",
                  "type": "bigint"
                }
              ],
              "truncated": false
            },
            "isSummary": false,
            "language": "scala"
          },
          "persist_state": {
            "view": {
              "type": "details",
              "tableOptions": {},
              "chartOptions": {
                "chartType": "bar",
                "aggregationType": "sum",
                "categoryFieldKeys": [
                  "0"
                ],
                "seriesFieldKeys": [
                  "1"
                ],
                "isStacked": false
              }
            }
          }
        }
      }
    }
  },
  "nbformat": 4,
  "nbformat_minor": 2
}